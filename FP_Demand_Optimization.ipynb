{
 "cells": [
  {
   "cell_type": "code",
   "execution_count": 1,
   "id": "efa7a946",
   "metadata": {},
   "outputs": [
    {
     "name": "stdout",
     "output_type": "stream",
     "text": [
      "Datasets loaded successfully:\n",
      "ke_fp_population_data.csv shape: (47, 38)\n",
      "ke_fp_service_data.csv shape: (1128, 60)\n"
     ]
    }
   ],
   "source": [
    "import pandas as pd\n",
    "import numpy as np\n",
    "import matplotlib.pyplot as plt\n",
    "import seaborn as sns\n",
    "\n",
    "# Cutting across (general data manipulation, visualization, and utility)\n",
    "from sklearn.model_selection import train_test_split, cross_val_score, TimeSeriesSplit\n",
    "from sklearn.preprocessing import StandardScaler, MinMaxScaler, OneHotEncoder\n",
    "from sklearn.metrics import mean_absolute_error, mean_squared_error, r2_score\n",
    "from sklearn.compose import ColumnTransformer\n",
    "from sklearn.pipeline import Pipeline\n",
    "from sklearn.impute import SimpleImputer\n",
    "\n",
    "\n",
    "# Classification Model Libraries (common and versatile)\n",
    "from sklearn.linear_model import LogisticRegression\n",
    "from sklearn.ensemble import RandomForestClassifier, GradientBoostingClassifier\n",
    "\n",
    "\n",
    "# Regression Model Libraries (common and versatile)\n",
    "from sklearn.linear_model import LinearRegression\n",
    "from sklearn.ensemble import RandomForestRegressor, GradientBoostingRegressor\n",
    "\n",
    "# Data loading\n",
    "try:\n",
    "    population_data_path = \"data/ke_fp_population_data.csv\"\n",
    "    service_data_path = \"data/ke_fp_service_data.csv\"\n",
    "\n",
    "    # Read with 'latin1' encoding\n",
    "    df_population = pd.read_csv(population_data_path, encoding='latin1')\n",
    "    df_service = pd.read_csv(service_data_path, encoding='latin1')\n",
    "\n",
    "    # Print the shape of the datasets\n",
    "\n",
    "    print(\"Datasets loaded successfully:\")\n",
    "    print(f\"ke_fp_population_data.csv shape: {df_population.shape}\")\n",
    "    print(f\"ke_fp_service_data.csv shape: {df_service.shape}\")\n",
    "\n",
    "except FileNotFoundError as e:\n",
    "    print(f\"Error: One or both of the CSV files were not found.\")\n",
    "    print(f\"Please ensure 'ke_fp_population_data.csv' and 'ke_fp_service_data.csv' are in a folder named 'data' in the same directory as this script.\")\n",
    "    print(e)\n",
    "except Exception as e:\n",
    "    print(f\"An unexpected error occurred while loading the datasets: {e}\")\n",
    "\n",
    "\n",
    "\n"
   ]
  }
 ],
 "metadata": {
  "kernelspec": {
   "display_name": "Python (learn-env)",
   "language": "python",
   "name": "learn-env"
  },
  "language_info": {
   "codemirror_mode": {
    "name": "ipython",
    "version": 3
   },
   "file_extension": ".py",
   "mimetype": "text/x-python",
   "name": "python",
   "nbconvert_exporter": "python",
   "pygments_lexer": "ipython3",
   "version": "3.8.5"
  }
 },
 "nbformat": 4,
 "nbformat_minor": 5
}
